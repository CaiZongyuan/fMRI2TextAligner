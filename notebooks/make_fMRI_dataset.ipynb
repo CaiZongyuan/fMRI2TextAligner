{
 "cells": [
  {
   "cell_type": "code",
   "execution_count": null,
   "metadata": {},
   "outputs": [],
   "source": [
    "import nibabel as nib\n",
    "import h5py\n",
    "import os.path as op\n",
    "import copy\n",
    "from sklearn.preprocessing import StandardScaler\n",
    "import numpy as np\n",
    "import matplotlib.pyplot as plt\n",
    "from tqdm import tqdm\n",
    "import pandas as pd"
   ]
  },
  {
   "cell_type": "code",
   "execution_count": null,
   "metadata": {},
   "outputs": [],
   "source": [
    "subject = 'subj01'\n",
    "\n",
    "nsd_folder = '../data/nsd'\n",
    "nsddata_folder = op.join(nsd_folder, 'nsddata')\n",
    "ppdata_folder = op.join(nsd_folder, 'nsddata', 'ppdata')\n",
    "nsddata_betas_folder = op.join(nsd_folder, 'nsddata_betas', 'ppdata')\n",
    "behavior_file = op.join(ppdata_folder, '{subject}', 'behav', 'responses.tsv')\n",
    "stimuli_file = op.join(nsd_folder, 'nsddata_stimuli', 'stimuli', 'nsd', 'nsd_stimuli.hdf5')\n",
    "stimuli_description_file = op.join(nsd_folder, 'nsddata', 'experiments', 'nsd', 'nsd_stim_info_merged.csv')\n",
    "coco_annotation_file = op.join(nsd_folder, 'nsddata_stimuli', 'stimuli', 'nsd', 'annotations', '{}_{}.json')\n",
    "\n",
    "data_format = 'func1pt8mm'\n",
    "subj = subject\n",
    "data_type='betas_fithrf_GLMdenoise_RR'\n",
    "\n",
    "data_folder = op.join(nsddata_betas_folder, subject, data_format, data_type)"
   ]
  },
  {
   "cell_type": "markdown",
   "metadata": {},
   "source": [
    "# Load roi"
   ]
  },
  {
   "cell_type": "markdown",
   "metadata": {},
   "source": [
    "file = op.join(ppdata_folder, f\"{subject}/{data_format}/roi/nsdgeneral.nii.gz\")\n",
    "nifti = nib.load(file) \n",
    "mask = nifti.get_fdata()\n",
    "mask[mask<1] = 0 \n",
    "nsdgeneral_mask = mask\n",
    "nsdgeneral_mask.shape"
   ]
  },
  {
   "cell_type": "code",
   "execution_count": null,
   "metadata": {},
   "outputs": [],
   "source": [
    "def read_behavior(subject, session_index, trial_index=[]):\n",
    "    behavior = pd.read_csv(behavior_file.format(subject=subject), delimiter='\\t')\n",
    "    session_behavior = behavior[behavior['SESSION'] == session_index]\n",
    "    if len(trial_index) == 0:\n",
    "        trial_index = slice(0, len(session_behavior))\n",
    "    return session_behavior.iloc[trial_index]\n",
    "    \n",
    "def read_betas(subject, session_index, trial_index=[], data_type='betas_fithrf_GLMdenoise_RR', data_format='fsaverage', mask=None):\n",
    "    data_folder = op.join(nsddata_betas_folder, subject, data_format, data_type)\n",
    "    si_str = str(session_index).zfill(2)\n",
    "    # if no mask was specified, we'll use the nifti image\n",
    "    ipf = op.join(data_folder, f'betas_session{si_str}.hdf5')\n",
    "    h5 = h5py.File(ipf, 'r')\n",
    "    betas = h5.get('betas')\n",
    "    # out_data = nb.load(\n",
    "    #     op.join(data_folder, f'betas_session{si_str}.nii.gz')).get_data()\n",
    "    if len(trial_index) == 0:\n",
    "        # trial_index = slice(0, out_data.shape[-1])\n",
    "        trial_index = slice(0, betas.shape[0])\n",
    "    return betas[trial_index,:]\n",
    "\n",
    "def normalize(x, mean=None, std=None):\n",
    "    mean = np.mean(x) if mean is None else mean\n",
    "    std = np.std(x) if std is None else std\n",
    "    return (x - mean) / (std * 1.0)"
   ]
  },
  {
   "cell_type": "markdown",
   "metadata": {},
   "source": [
    "# Preprocessing fMRI"
   ]
  },
  {
   "cell_type": "code",
   "execution_count": null,
   "metadata": {},
   "outputs": [],
   "source": [
    "# How many sessions do you want to read\n",
    "nsessions = 40\n",
    "patch_size = 16"
   ]
  },
  {
   "cell_type": "code",
   "execution_count": null,
   "metadata": {},
   "outputs": [],
   "source": [
    "for tar in tqdm(range(nsessions)):\n",
    "    sess=tar+1\n",
    "    \n",
    "    behav = read_behavior(subject=subject, \n",
    "                session_index=sess, \n",
    "                trial_index=[]) \n",
    "\n",
    "    # pull single-trial betas and mask them\n",
    "    betas = read_betas(subject=subject, \n",
    "                        session_index=sess, \n",
    "                        trial_index=[], # empty list as index means get all for this session\n",
    "                        data_type='betas_fithrf_GLMdenoise_RR', # GLMSingle beta2\n",
    "                        data_format='func1pt8mm') \n",
    "\n",
    "    # betas = betas[mask]\n",
    "    # betas = np.moveaxis(betas,-1,0)\n",
    "    \n",
    "    vox_include = copy.deepcopy(nsdgeneral_mask)\n",
    "\n",
    "    ncsnr_dir = op.join(data_folder, f'ncsnr.nii.gz')\n",
    "    ncsnr = nib.load(ncsnr_dir).get_fdata()\n",
    "    ncsnr[ncsnr<.15] = np.nan \n",
    "\n",
    "    if tar==0: print(\"voxels left:\", len(vox_include[vox_include>0]))\n",
    "    # Subtract 1 from the values ​​in vox_include that correspond to the positions in ncsnr that are np.nan\n",
    "    vox_include[np.isnan(ncsnr)] -= 1 # keep all nsdgeneral voxels even if they are below the threshold\n",
    "    vox_include[vox_include<0] = 0\n",
    "    # This helps keep track of how many voxels are still included after thresholding\n",
    "    if tar==0: print(\"voxels left after ncsnr thresholding:\", len(vox_include[vox_include>0])) # subj01 = 49329\n",
    "    \n",
    "    betas = betas.reshape(len(betas),-1)\n",
    "    betas = betas[:,vox_include.flatten().astype(bool)]\n",
    "    shape = betas.shape\n",
    "\n",
    "    # padding to multiples of 16 to facilitate subsequent training\n",
    "    patch_size = 16\n",
    "    betas_pad = np.pad(betas, ((0,0),(0, patch_size-betas.shape[1]%patch_size)), 'wrap')\n",
    "\n",
    "    # normalization\n",
    "    betas_norm = normalize(betas_pad)\n",
    "    \n",
    "    globals()[f'betas_ses{sess}'] = betas_norm  \n",
    "    globals()[f'behav_ses{sess}'] = behav   \n",
    "    print(betas_norm.shape)"
   ]
  },
  {
   "cell_type": "markdown",
   "metadata": {},
   "source": [
    "# Save npy file"
   ]
  },
  {
   "cell_type": "code",
   "execution_count": null,
   "metadata": {},
   "outputs": [],
   "source": [
    "# Merge betas arrays from different sessions\n",
    "for tar in range(nsessions):\n",
    "    sess=tar+1\n",
    "    if sess==1:\n",
    "        betas_all = globals()[f'betas_ses{sess}']\n",
    "    else:\n",
    "        betas_all = np.vstack((betas_all,globals()[f'betas_ses{sess}']))\n",
    "    print(betas_all.shape)"
   ]
  },
  {
   "cell_type": "code",
   "execution_count": null,
   "metadata": {},
   "outputs": [],
   "source": [
    "np.save(f\"./betas_{subject}.npy\", betas_all)\n",
    "print(f\"saved betas_{subject}.npy\")"
   ]
  }
 ],
 "metadata": {
  "language_info": {
   "name": "python"
  }
 },
 "nbformat": 4,
 "nbformat_minor": 2
}
